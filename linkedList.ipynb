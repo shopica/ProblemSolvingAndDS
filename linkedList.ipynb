{
 "cells": [
  {
   "cell_type": "code",
   "execution_count": 41,
   "metadata": {},
   "outputs": [
    {
     "name": "stdout",
     "output_type": "stream",
     "text": [
      "<__main__.node object at 0x000001D103C35108>\n",
      "None\n"
     ]
    },
    {
     "data": {
      "text/plain": [
       "[1]"
      ]
     },
     "execution_count": 41,
     "metadata": {},
     "output_type": "execute_result"
    }
   ],
   "source": [
    "#Node creation with assuming the next pointer to null till it gets assigned.\n",
    "\n",
    "class node:\n",
    "    def  __init__(self,data = None):\n",
    "        self.data = data\n",
    "        self.next = None\n",
    "        \n",
    "#Linked list with methods.\n",
    "\n",
    "class linked_Lists:\n",
    "    def __init__(self):\n",
    "        self.head_Node = node()\n",
    "        print(self.head_Node)\n",
    "        \n",
    "    def append(self,data):\n",
    "        new_Node = node(data)\n",
    "        cur_Node = self.head_Node\n",
    "        while(cur_Node.next != None):\n",
    "            cur_Node = cur_Node.next\n",
    "        cur_Node.next = new_Node\n",
    "        \n",
    "    def display(self):\n",
    "        elements = []\n",
    "        cur_Node = self.head_Node\n",
    "        print(cur_Node.data)\n",
    "        while(cur_Node.next != None):\n",
    "            cur_Node = cur_Node.next\n",
    "            elements.append(cur_Node.data)\n",
    "        return(elements)\n",
    "    \n",
    "    def length(self):\n",
    "        count = 0\n",
    "        cur_Node = self.head_Node\n",
    "        while(cur_Node.next != None):\n",
    "            cur_Node = cur_Node.next\n",
    "            count += 1\n",
    "        return count\n",
    "            \n",
    "            \n",
    "        \n",
    "    \n",
    "    def erase(self,index):\n",
    "        if (index >= self.length() or index < 0):\n",
    "            print(\"ERROR: 'Erase' Index out of range!\")\n",
    "            return \n",
    "        cur_idx=0\n",
    "        cur_node=self.head_Node\n",
    "        \n",
    "        while True:\n",
    "            last_node=cur_node\n",
    "            cur_node=cur_node.next\n",
    "            if cur_idx==index:\n",
    "                last_node.next=cur_node.next\n",
    "                return\n",
    "            cur_idx+=1\n",
    "            \n",
    "\n",
    "#Initializing the linkedList.\n",
    "\n",
    "linkedList = linked_Lists()\n",
    "linkedList.append(1)\n",
    "linkedList.display()\n",
    "\n",
    "\n",
    "  \n",
    "\n",
    "        "
   ]
  },
  {
   "cell_type": "code",
   "execution_count": null,
   "metadata": {},
   "outputs": [],
   "source": []
  }
 ],
 "metadata": {
  "kernelspec": {
   "display_name": "Python 3",
   "language": "python",
   "name": "python3"
  },
  "language_info": {
   "codemirror_mode": {
    "name": "ipython",
    "version": 3
   },
   "file_extension": ".py",
   "mimetype": "text/x-python",
   "name": "python",
   "nbconvert_exporter": "python",
   "pygments_lexer": "ipython3",
   "version": "3.7.6"
  }
 },
 "nbformat": 4,
 "nbformat_minor": 4
}
